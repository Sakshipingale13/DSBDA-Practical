{
  "nbformat": 4,
  "nbformat_minor": 0,
  "metadata": {
    "colab": {
      "provenance": [],
      "authorship_tag": "ABX9TyO6u0Tk79ubUYOryVCXkNwH",
      "include_colab_link": true
    },
    "kernelspec": {
      "name": "python3",
      "display_name": "Python 3"
    },
    "language_info": {
      "name": "python"
    }
  },
  "cells": [
    {
      "cell_type": "markdown",
      "metadata": {
        "id": "view-in-github",
        "colab_type": "text"
      },
      "source": [
        "<a href=\"https://colab.research.google.com/github/Sakshipingale13/DSBDA-Practical/blob/main/DSBDA_A7.ipynb\" target=\"_parent\"><img src=\"https://colab.research.google.com/assets/colab-badge.svg\" alt=\"Open In Colab\"/></a>"
      ]
    },
    {
      "cell_type": "markdown",
      "source": [
        "  Text Analytics   = 1. Extract Sample document and apply following document preprocessing methods:\n",
        "Tokenization, POS Tagging, stop words removal, Stemming and Lemmatization 2. Create representation of document by calculating Term Frequency and IDF"
      ],
      "metadata": {
        "id": "r5PUojj09M__"
      }
    },
    {
      "cell_type": "code",
      "execution_count": null,
      "metadata": {
        "id": "m-9meKb6RmNt"
      },
      "outputs": [],
      "source": [
        "import nltk\n",
        "nltk.download('stopwords')\n",
        "nltk.download('punkt')\n",
        "nltk.download(\"wordnet\")\n",
        "nltk.download('averaged_perceptron_tagger')"
      ]
    },
    {
      "cell_type": "code",
      "source": [
        "doc=\"The sunrise made the sky turn pretty colors like gold and pink, making everything peaceful in the morning.\""
      ],
      "metadata": {
        "id": "JYmcPGob_AH7"
      },
      "execution_count": null,
      "outputs": []
    },
    {
      "cell_type": "code",
      "source": [
        "# Tokenization\n",
        "from nltk.tokenize import word_tokenize\n",
        "tokens = word_tokenize(doc)\n",
        "print(tokens)"
      ],
      "metadata": {
        "colab": {
          "base_uri": "https://localhost:8080/"
        },
        "id": "zxAdyQ7oAQcO",
        "outputId": "0b940ecf-3e5b-4f7d-89b4-a5430dfa1058"
      },
      "execution_count": null,
      "outputs": [
        {
          "output_type": "stream",
          "name": "stdout",
          "text": [
            "['The', 'sunrise', 'made', 'the', 'sky', 'turn', 'pretty', 'colors', 'like', 'gold', 'and', 'pink', ',', 'making', 'everything', 'peaceful', 'in', 'the', 'morning', '.']\n"
          ]
        }
      ]
    },
    {
      "cell_type": "code",
      "source": [
        "# POS Tagging\n",
        "from nltk import pos_tag\n",
        "print(\"POS Tags:\", pos_tag(tokens))\n"
      ],
      "metadata": {
        "colab": {
          "base_uri": "https://localhost:8080/"
        },
        "id": "EXtFjiXnAtmW",
        "outputId": "194e7fc1-834b-4af1-f387-5edae2f1d223"
      },
      "execution_count": null,
      "outputs": [
        {
          "output_type": "stream",
          "name": "stdout",
          "text": [
            "POS Tags: [('The', 'DT'), ('sunrise', 'NN'), ('made', 'VBD'), ('the', 'DT'), ('sky', 'JJ'), ('turn', 'NN'), ('pretty', 'JJ'), ('colors', 'NNS'), ('like', 'IN'), ('gold', 'NN'), ('and', 'CC'), ('pink', 'NN'), (',', ','), ('making', 'VBG'), ('everything', 'NN'), ('peaceful', 'NN'), ('in', 'IN'), ('the', 'DT'), ('morning', 'NN'), ('.', '.')]\n"
          ]
        }
      ]
    },
    {
      "cell_type": "code",
      "source": [
        "# Stop Words Removal\n",
        "from nltk.corpus import stopwords\n",
        "stop_words = set(stopwords.words('english'))\n",
        "filtered_tokens = [word for word in tokens if word.lower() not in stop_words]\n",
        "tokens = word_tokenize(doc)\n",
        "filtered_tokens = []\n",
        "for token in tokens:\n",
        "  if (token not in stop_words):\n",
        "    filtered_tokens.append(token)\n",
        "print(filtered_tokens)"
      ],
      "metadata": {
        "colab": {
          "base_uri": "https://localhost:8080/"
        },
        "id": "c1gCiW2dBSCh",
        "outputId": "bfa37dee-de15-48d8-ca86-b929fba3d12f"
      },
      "execution_count": null,
      "outputs": [
        {
          "output_type": "stream",
          "name": "stdout",
          "text": [
            "['The', 'sunrise', 'made', 'sky', 'turn', 'pretty', 'colors', 'like', 'gold', 'pink', ',', 'making', 'everything', 'peaceful', 'morning', '.']\n"
          ]
        }
      ]
    },
    {
      "cell_type": "code",
      "source": [
        "# Stemmimg\n",
        "from nltk.stem import PorterStemmer, WordNetLemmatizer\n",
        "stemmer = PorterStemmer()\n",
        "stemmed_tokens = [stemmer.stem(word) for word in filtered_tokens]\n",
        "print(\"Stemmed Tokens :\", stemmed_tokens)"
      ],
      "metadata": {
        "colab": {
          "base_uri": "https://localhost:8080/"
        },
        "id": "yf2RIgQjDee-",
        "outputId": "8df91f93-9503-45b7-cae3-5238f3456b08"
      },
      "execution_count": null,
      "outputs": [
        {
          "output_type": "stream",
          "name": "stdout",
          "text": [
            "Stemmed Tokens : ['the', 'sunris', 'made', 'sky', 'turn', 'pretti', 'color', 'like', 'gold', 'pink', ',', 'make', 'everyth', 'peac', 'morn', '.']\n"
          ]
        }
      ]
    },
    {
      "cell_type": "code",
      "source": [
        "# Lemmatization\n",
        "lemmatizer = WordNetLemmatizer()\n",
        "lemmatized_tokens = [lemmatizer.lemmatize(word) for word in filtered_tokens]\n",
        "print(\"Lemmatized Tokens:\", lemmatized_tokens)"
      ],
      "metadata": {
        "colab": {
          "base_uri": "https://localhost:8080/"
        },
        "id": "fZyl3dPfDwYD",
        "outputId": "b6a265a0-50d1-4dc7-d863-b2e885f0b98e"
      },
      "execution_count": null,
      "outputs": [
        {
          "output_type": "stream",
          "name": "stdout",
          "text": [
            "Lemmatized Tokens: ['The', 'sunrise', 'made', 'sky', 'turn', 'pretty', 'color', 'like', 'gold', 'pink', ',', 'making', 'everything', 'peaceful', 'morning', '.']\n"
          ]
        }
      ]
    },
    {
      "cell_type": "code",
      "source": [
        "#  calculating Term Frequency and Inverse Document Frequency.\n",
        "from sklearn.feature_extraction.text import TfidfVectorizer"
      ],
      "metadata": {
        "id": "6iZ2NyjkFOKi"
      },
      "execution_count": null,
      "outputs": []
    },
    {
      "cell_type": "code",
      "source": [
        "doc=[ \"The sunrise made the sky turn pretty colors like gold and pink, making everything peaceful in the morning.\" ]"
      ],
      "metadata": {
        "id": "nwv26HcvF7EI"
      },
      "execution_count": null,
      "outputs": []
    },
    {
      "cell_type": "code",
      "source": [
        "vectorizer = TfidfVectorizer()\n",
        "matrix = vectorizer.fit_transform(doc)\n",
        "vectorizer.vocabulary_"
      ],
      "metadata": {
        "colab": {
          "base_uri": "https://localhost:8080/"
        },
        "id": "IbGpEoZmGmuD",
        "outputId": "4067ea05-c5fa-461b-8ec2-fc8937e0e5af"
      },
      "execution_count": null,
      "outputs": [
        {
          "output_type": "execute_result",
          "data": {
            "text/plain": [
              "{'the': 14,\n",
              " 'sunrise': 13,\n",
              " 'made': 6,\n",
              " 'sky': 12,\n",
              " 'turn': 15,\n",
              " 'pretty': 11,\n",
              " 'colors': 1,\n",
              " 'like': 5,\n",
              " 'gold': 3,\n",
              " 'and': 0,\n",
              " 'pink': 10,\n",
              " 'making': 7,\n",
              " 'everything': 2,\n",
              " 'peaceful': 9,\n",
              " 'in': 4,\n",
              " 'morning': 8}"
            ]
          },
          "metadata": {},
          "execution_count": 87
        }
      ]
    },
    {
      "cell_type": "code",
      "source": [
        "tfidf_matrix = vectorizer.transform(doc)\n",
        "print(tfidf_matrix)"
      ],
      "metadata": {
        "colab": {
          "base_uri": "https://localhost:8080/"
        },
        "id": "CoYCDnrWG0T0",
        "outputId": "41e4be83-1f88-4433-e2c9-af8ba302769a"
      },
      "execution_count": null,
      "outputs": [
        {
          "output_type": "stream",
          "name": "stdout",
          "text": [
            "  (0, 15)\t0.20412414523193154\n",
            "  (0, 14)\t0.6123724356957946\n",
            "  (0, 13)\t0.20412414523193154\n",
            "  (0, 12)\t0.20412414523193154\n",
            "  (0, 11)\t0.20412414523193154\n",
            "  (0, 10)\t0.20412414523193154\n",
            "  (0, 9)\t0.20412414523193154\n",
            "  (0, 8)\t0.20412414523193154\n",
            "  (0, 7)\t0.20412414523193154\n",
            "  (0, 6)\t0.20412414523193154\n",
            "  (0, 5)\t0.20412414523193154\n",
            "  (0, 4)\t0.20412414523193154\n",
            "  (0, 3)\t0.20412414523193154\n",
            "  (0, 2)\t0.20412414523193154\n",
            "  (0, 1)\t0.20412414523193154\n",
            "  (0, 0)\t0.20412414523193154\n"
          ]
        }
      ]
    },
    {
      "cell_type": "code",
      "source": [
        "print(vectorizer.get_feature_names_out())"
      ],
      "metadata": {
        "colab": {
          "base_uri": "https://localhost:8080/"
        },
        "id": "Wt_6HcjgIX_3",
        "outputId": "3b964cff-45da-44fb-c10b-d2d277187da5"
      },
      "execution_count": null,
      "outputs": [
        {
          "output_type": "stream",
          "name": "stdout",
          "text": [
            "['and' 'colors' 'everything' 'gold' 'in' 'like' 'made' 'making' 'morning'\n",
            " 'peaceful' 'pink' 'pretty' 'sky' 'sunrise' 'the' 'turn']\n"
          ]
        }
      ]
    }
  ]
}